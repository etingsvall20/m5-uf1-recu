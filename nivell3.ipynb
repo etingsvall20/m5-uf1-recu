{
 "cells": [
  {
   "cell_type": "markdown",
   "id": "d9409ac2-a03e-4f1b-bf13-b4f9b743f14b",
   "metadata": {},
   "source": [
    "# Nivell 3"
   ]
  },
  {
   "cell_type": "markdown",
   "id": "e5eac30b-97d3-4ab3-a5a3-85646f073baa",
   "metadata": {},
   "source": [
    "## Exercici 1"
   ]
  },
  {
   "cell_type": "markdown",
   "id": "3436098a-a41a-4a86-8be0-d40de49cac59",
   "metadata": {},
   "source": [
    "Al vostre repositori ```m5uf1ex``` i **a la branca _main_**, heu d'afegir un fitxer markdown, anomenat nivell3ex.md, que sigui el màxim de semblant possible al fitxer model que hi ha a aquest repositori, anomenat _readme-sample.pdf_\n",
    "\n",
    "Quan l'acabeu, afegiu-lo a la stage area de git amb ```git add``` i feu el commit amb el missatge \"Nom Cognom: Markdown nivell3ex acabat\".\n",
    "\n",
    "Finalment feu el git push (branca _main_).\n"
   ]
  },
  {
   "cell_type": "markdown",
   "id": "ec565f9f-5e3d-4620-93b4-a1ec2e351fac",
   "metadata": {},
   "source": [
    "## Exercici 2"
   ]
  },
  {
   "cell_type": "markdown",
   "id": "95085302",
   "metadata": {},
   "source": [
    "1. Des de la branca main creem una nova branca anomenada nivell3ex (no hi canviem encara)\n",
    "\n",
    "2. Des de la branca main, creem un nou fitxer anomenat nivell3ex.txt\n",
    "\n",
    "3. fem git status (el nou fitxer està a l'àrea de workspace)\n",
    "\n",
    "4. Canviem a la branca nivell3ex. Respon les següents preguntes:\n",
    "\n",
    "* Hi és el fitxer nivell3ex.txt a la nivell3ex?\n",
    "\n",
    "* És l'àrea de workspace comuna a les diferents branques?\n"
   ]
  },
  {
   "cell_type": "markdown",
   "id": "a65777d9",
   "metadata": {},
   "source": [
    "#### Edita aquesta cel·la del notebook i escriu les teves respostes a continuació:\n",
    "\n"
   ]
  },
  {
   "cell_type": "markdown",
   "id": "f3ab5d3e",
   "metadata": {
    "ExecuteTime": {
     "end_time": "2021-10-15T15:13:18.067108Z",
     "start_time": "2021-10-15T15:13:18.045562Z"
    }
   },
   "source": [
    "5. Tornem a la branca main\n",
    "\n",
    "6. Fem un git add nivell3ex.txt (el fitxer nivell3ex.txt passa a l'àrea índex)\n",
    "\n",
    "7. git status\n",
    "\n",
    "8. Anem de nou a la branca nivell3ex. Respon de nou les següents preguntes::\n",
    "\n",
    "* hi és el fitxer nivell3ex.txt a la nivell3ex?\n",
    "\n",
    "* És l'àrea de índex comuna a les diferents branques?\n"
   ]
  },
  {
   "cell_type": "markdown",
   "id": "3936939e-677a-4369-9e88-bb592d06e35c",
   "metadata": {},
   "source": [
    "#### Edita aquesta cel·la del notebook i escriu les teves respostes a continuació:\n",
    "\n",
    "\n",
    "\n"
   ]
  },
  {
   "cell_type": "markdown",
   "id": "cc515483",
   "metadata": {},
   "source": [
    "9. Tornem a la branca main\n",
    "\n",
    "10. Fem un commit del fitxer nivell3ex.txt\n",
    "\n",
    "11. git status\n",
    "\n",
    "12. Anem de nou a la branca nivell3ex. Respon de nou a les següents preguntes:\n",
    "\n",
    "* hi és el fitxer nivell3ex.txt a la nivell3ex?\n",
    "* És l'àrea de repo local comuna a les diferents branques?"
   ]
  },
  {
   "cell_type": "markdown",
   "id": "b7004889",
   "metadata": {},
   "source": [
    "#### Edita aquesta cel·la del notebook i escriu les teves respostes a continuació:"
   ]
  },
  {
   "cell_type": "markdown",
   "id": "55685fba-a1ae-4a04-a2f9-f17713903f2d",
   "metadata": {},
   "source": [
    "### Enganxa a continuació el resultat de ```git log``` un cop acabats els exercicis 1 i 2 d'aquest nivell 3:"
   ]
  },
  {
   "cell_type": "markdown",
   "id": "bd934c3f-0f96-4bba-b087-60e803bede83",
   "metadata": {},
   "source": [
    "**Escriu el resultat de git log a continuació**:\n",
    "\n",
    "```\n",
    "# git log aquí\n",
    "\n",
    "```"
   ]
  },
  {
   "cell_type": "markdown",
   "id": "a57c2a7a",
   "metadata": {},
   "source": [
    "**Quan acabis aquest exercici, no t'oblidis de fer un git push del repo ```m5uf1ex``` de les branques main i nivell3 al repo remot.**"
   ]
  },
  {
   "cell_type": "markdown",
   "id": "16813e29-10b8-45f1-84cd-84ab8da52898",
   "metadata": {},
   "source": [
    "***\n",
    "# Instruccions de preparació del Nivell 3 per al lliurament\n",
    "\n",
    "## (A fer abans de fer el lliurament)"
   ]
  },
  {
   "cell_type": "markdown",
   "id": "f5d5f367-a69e-4f52-bba6-16c61f822f76",
   "metadata": {},
   "source": [
    "1. **Comproveu que teniu tots els commits i push del nivell 3 fets abans de continuar al següent pas**.\n",
    "2. Us ubiqueu al vostre directori d'inici ```~/DAW/M051/uf1/aa-m5-uf1ex-username```\n",
    "3. Executa la següent comanda git **dins del repositori d'inici**:\n",
    "\n",
    "```bash\n",
    "git pull --recurse-submodules\n",
    "```\n",
    "\n",
    "Així els repos remots ```m5uf1ex``` i ```workspaces``` se t'actualitzaran amb els canvis afegit al nivell 3. \n",
    "\n",
    "**Lliurament**: Finalment, fes un git add i un git commit de la branca _main_ del repositori d'inici, amb el següent missatge: **Nom Cognom: nivell 3 acabat**.\n",
    "\n"
   ]
  },
  {
   "cell_type": "code",
   "execution_count": null,
   "id": "a74aa397-c4ac-4262-a3bd-21fb0ee680d8",
   "metadata": {},
   "outputs": [],
   "source": []
  }
 ],
 "metadata": {
  "kernelspec": {
   "display_name": "Bash",
   "language": "bash",
   "name": "calysto_bash"
  },
  "language_info": {
   "file_extension": ".sh",
   "help_links": [
    {
     "text": "MetaKernel Magics",
     "url": "https://metakernel.readthedocs.io/en/latest/source/README.html"
    }
   ],
   "mimetype": "text/x-sh",
   "name": "bash",
   "version": "0.2.2"
  },
  "nbTranslate": {
   "displayLangs": [
    "*"
   ],
   "hotkey": "alt-t",
   "langInMainMenu": true,
   "sourceLang": "en",
   "targetLang": "ca",
   "useGoogleTranslate": true
  },
  "toc": {
   "base_numbering": 1,
   "nav_menu": {},
   "number_sections": true,
   "sideBar": true,
   "skip_h1_title": false,
   "title_cell": "Table of Contents",
   "title_sidebar": "Contents",
   "toc_cell": false,
   "toc_position": {},
   "toc_section_display": true,
   "toc_window_display": false
  },
  "varInspector": {
   "cols": {
    "lenName": 16,
    "lenType": 16,
    "lenVar": 40
   },
   "kernels_config": {
    "python": {
     "delete_cmd_postfix": "",
     "delete_cmd_prefix": "del ",
     "library": "var_list.py",
     "varRefreshCmd": "print(var_dic_list())"
    },
    "r": {
     "delete_cmd_postfix": ") ",
     "delete_cmd_prefix": "rm(",
     "library": "var_list.r",
     "varRefreshCmd": "cat(var_dic_list()) "
    }
   },
   "types_to_exclude": [
    "module",
    "function",
    "builtin_function_or_method",
    "instance",
    "_Feature"
   ],
   "window_display": false
  }
 },
 "nbformat": 4,
 "nbformat_minor": 5
}
