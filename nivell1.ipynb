{
 "cells": [
  {
   "cell_type": "markdown",
   "id": "d9409ac2-a03e-4f1b-bf13-b4f9b743f14b",
   "metadata": {},
   "source": [
    "# Nivell 1\n",
    "\n",
    "Recordatori:\n",
    "\n",
    "* Directori de treball: ```~/DAW/M051/uf1```\n",
    "* Directori d'inici: ```~/DAW/M051/uf1/aa-m5-uf1ex-username```"
   ]
  },
  {
   "cell_type": "markdown",
   "id": "e5eac30b-97d3-4ab3-a5a3-85646f073baa",
   "metadata": {},
   "source": [
    "## Exercici 1"
   ]
  },
  {
   "cell_type": "markdown",
   "id": "3436098a-a41a-4a86-8be0-d40de49cac59",
   "metadata": {},
   "source": [
    "### Fase 1\n",
    "\n",
    "- Obre un nou terminal a l'entorn de desenvolupament.\n",
    "- Si no ho tens fet ja, configura el git globalment (```git config --global```) introduint el teu nom i cognoms, nom d'usuari de github i correu electrònic que tinguis informat al teu compte de github.\n",
    "- **Per a continuar, ubicat primer (si no ho estàs ja) al directori de treball (si estàs al directori d'inici, has d'anar a un nivell superior, ja que el directori d'inici està dins del directori de treball -veure el document de les instruccions)**.\n",
    "- Crea un directori (que serà un subdirectori del directori de treball, - _el directori d'inici també és un subdirectori del directori de treball_) anomenat ```m5uf1ex``` (que vol dir \"M5 UF1 Examen\"):\n",
    "    - Inicialitza aquest directori com a repositori git.\n",
    "    - Crea un fitxer anomenat README.md que mostri el text \"M5 UF1 Examen - Nom Cognoms\" com a **títol markdown** de primer nivell (un coixinet), i on _Nom Cognoms_ són el nom i cognom de l'alumne.\n",
    "    - Afegeix aquest fitxer README.md a l'índex de git i fes un primer commit amb el missatge _\"Primer commit - Nom Cognom\"_.\n",
    "    - **Reanomena la branca _master_ a _main_** (al document d'instruccions teniu la comanda per a fer-ho)."
   ]
  },
  {
   "cell_type": "markdown",
   "id": "82b5a839-0a5f-408e-9088-df9fa327de96",
   "metadata": {},
   "source": [
    "### Fase 2\n",
    "\n",
    "- Ves al teu github i crea un repositori remot anomenat ```m5uf1ex```. **No hi afegeixis cap fitxer** durant el procés de creació.\n",
    "- Afegeix aquest repo remot que acabes de crear, com a _remote_ del repositori local creat a la fase 1.\n",
    "- Fes un _git push_ de la branca main del repo local al repo remot ```m5uf1ex```. Si la branca main del repo local no existeix, has de reanomenar la branca master a main (tal com s'ha indicat a la fase 1). Comprova a github que s'ha fet el push correctament i tens el fitxer README.md creat a la fase 1."
   ]
  },
  {
   "cell_type": "markdown",
   "id": "ec565f9f-5e3d-4620-93b4-a1ec2e351fac",
   "metadata": {},
   "source": [
    "## Exercici 2"
   ]
  },
  {
   "cell_type": "markdown",
   "id": "3936939e-677a-4369-9e88-bb592d06e35c",
   "metadata": {},
   "source": [
    "Al repositori local ```m5uf1ex``` de l'exercici anterior, a la branca _main_, crea un fitxer markdown, anomenat ```nivell1ex.md```, que tingui **com a mínim** els següents elements:\n",
    "\n",
    "- Títols de diferents nivells\n",
    "- Llistes i llistes anidades, no numerades (amb punts per exemple).\n",
    "- Enllaços a recursos externs\n",
    "- Paraules en cursiva i en negreta\n",
    "- Destacats (blockquotes)\n",
    "- [Codi](https://www.freecodecamp.org/news/how-to-format-code-in-markdown/)\n",
    "- Una imatge\n",
    "\n",
    "**El text que elaboris per fer el document markdown l'has d'extreure de**: \n",
    "\n",
    "[Spring Framework](https://ca.wikipedia.org/wiki/Spring_framework)\n",
    "\n",
    "(No cal que incloguis tot el text: agafa només els trossos que necessitis, i els formates en mode markdown per a complir el que es demana).\n",
    "\n",
    "Quan acabis, fes el commit amb el missatge _\"Nom Cognom: Fixer md afegit\"_.\n",
    "\n",
    "Un cop fet el commit, fes el _git push_ (de la branca main)."
   ]
  },
  {
   "cell_type": "markdown",
   "id": "6c023776-29a4-4405-8d45-b2eda6a39496",
   "metadata": {},
   "source": [
    "## Exercici 3"
   ]
  },
  {
   "cell_type": "markdown",
   "id": "88ec1a6c-f64d-4b13-b276-83130145a367",
   "metadata": {},
   "source": [
    "En aquest exercici es tracta que demostreu que heu fet el primer dels exercicis de _Visual Studio Code_ que es van publicar anteriorment a l'aula (_Exercici: creació de projectes Java_), i que (a modus de recordatori) teniu aquí:\n",
    "\n",
    "[VSCode: Workspaces i projectes java](https://github.com/orboan-daw/m051/blob/main/uf1/vscode/vscode-workspaces.md)\n",
    "\n",
    "Per tant, heu de demostrar que vau fer, almenys, els dos projectes Java d'aquest exercici, **anomenats \"M5_test1\" i \"M5_test2\"** (poden haver-hi més projectes java o no, però aquests dos hi han de ser).\n",
    "\n",
    "Per a demostrar-ho que el teniu fet correctament, heu de fer:\n",
    "\n",
    "- inicialitzeu el directori ```~/workspaces``` com a repositori git (si no el teniu inicialitzat ja d'altres exercicis anteriors)\n",
    "- creeu, al vostre compte de github, un repo remot anomenat ```workspaces``` (si no el teniu ja d'exercicis anteriors)\n",
    "- definiu el _remote_ al repo local (si no ho heu fet ja a exercicis anteriors)\n",
    "- al repo local, feu un git commit (fent git add primer si cal) amb el missatge \"Nom Cognom: vscode nivell1ex\"\n",
    "- feu un git push **de la branca main** (creeu-la en local si no la teniu) per a sincronitzar els dos repos"
   ]
  },
  {
   "cell_type": "markdown",
   "id": "16813e29-10b8-45f1-84cd-84ab8da52898",
   "metadata": {},
   "source": [
    "***\n",
    "# Instruccions de preparació del Nivell 1 per al lliurament\n",
    "\n",
    "## (A fer abans de fer el lliurament o de abans de passar al següent nivell)"
   ]
  },
  {
   "cell_type": "markdown",
   "id": "f5d5f367-a69e-4f52-bba6-16c61f822f76",
   "metadata": {},
   "source": [
    "1. **Comproveu que teniu tots els commits i push del nivell 1 fets abans de continuar al següent pas**.\n",
    "2. Us ubiqueu al vostre directori d'inici ```~/DAW/M051/uf1/aa-m5-uf1ex-username```\n",
    "3. Executa les següents comandes git **dins del repositori d'inici**:\n",
    "\n",
    "```bash\n",
    "git submodule add url_repo_m5uf1ex\n",
    "git submodule add url_repo_workspaces\n",
    "```\n",
    "\n",
    "On ```url_repo_m5uf1ex``` i ```url_repo_workspaces``` són les URL dels repositoris remots que t'has creat en els exercicis del nivell 1 i que estan al teu github personal, per tant són urls en què **ha d'apareixer el teu nom d'usuari de github**.\n",
    "\n",
    "**Abans de continuar al següent nivell o si vols fer el lliurament**: Finalment, fes un git add i un git commit de la branca _main_ DEL REPOSITORI D'INICI, amb el següent missatge: **Nom Cognom: nivell 1 acabat**.\n",
    "\n"
   ]
  }
 ],
 "metadata": {
  "kernelspec": {
   "display_name": "Bash",
   "language": "bash",
   "name": "calysto_bash"
  },
  "language_info": {
   "file_extension": ".sh",
   "help_links": [
    {
     "text": "MetaKernel Magics",
     "url": "https://metakernel.readthedocs.io/en/latest/source/README.html"
    }
   ],
   "mimetype": "text/x-sh",
   "name": "bash",
   "version": "0.2.2"
  }
 },
 "nbformat": 4,
 "nbformat_minor": 5
}
